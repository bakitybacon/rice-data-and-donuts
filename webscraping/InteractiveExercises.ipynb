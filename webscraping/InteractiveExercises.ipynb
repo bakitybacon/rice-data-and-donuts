{
 "cells": [
  {
   "cell_type": "markdown",
   "metadata": {},
   "source": [
    "# Data @ Rice Workshop: Web Scraping Interactive Exercises\n",
    "\n",
    "#### Corrin Fosmire\n",
    "#### October 14, 2019"
   ]
  },
  {
   "cell_type": "markdown",
   "metadata": {},
   "source": [
    "## Collecting Yelp reviews for Houston restaurants\n",
    "\n",
    "This tutorial is going to teach web scraping, which is a general term for ways to get\n",
    " \n",
    "## Objectives\n",
    "\n",
    "Concretely, this lab will teach you how to work with:\n",
    "\n",
    "* Simple HTTP Requests and JSON/Tabular Data\n",
    "* RESTful APIs & Key-Based Authentication\n",
    "    * Authentication (OAuth)\n",
    "* Pagination\n",
    " \n",
    "(this workshop is based on a series of labs created by Devika Subramanian for her COMP340 course at Rice University during the Fall 2018 term) "
   ]
  },
  {
   "cell_type": "markdown",
   "metadata": {},
   "source": [
    "### Basic HTTP Requests\n",
    "\n",
    "Fill in the funtion to use `requests` to download and return the raw HTML content of the URL passed in as an argument. As an example, try the following NYT article: [https://www.nytimes.com/2018/04/11/technology/personaltech/i-downloaded-the-information-that-facebook-has-on-me-yikes.html](https://www.nytimes.com/2018/04/11/technology/personaltech/i-downloaded-the-information-that-facebook-has-on-me-yikes.html)"
   ]
  },
  {
   "cell_type": "code",
   "execution_count": null,
   "metadata": {},
   "outputs": [],
   "source": []
  }
 ],
 "metadata": {
  "kernelspec": {
   "display_name": "Python 3",
   "language": "python",
   "name": "python3"
  },
  "language_info": {
   "codemirror_mode": {
    "name": "ipython",
    "version": 3
   },
   "file_extension": ".py",
   "mimetype": "text/x-python",
   "name": "python",
   "nbconvert_exporter": "python",
   "pygments_lexer": "ipython3",
   "version": "3.7.3"
  }
 },
 "nbformat": 4,
 "nbformat_minor": 2
}
