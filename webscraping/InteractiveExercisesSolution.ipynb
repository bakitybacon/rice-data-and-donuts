{
 "cells": [
  {
   "cell_type": "markdown",
   "metadata": {},
   "source": [
    "# Data @ Rice Workshop: Web Scraping Interactive Exercises\n",
    "\n",
    "#### Corrin Fosmire\n",
    "#### October 14, 2019"
   ]
  },
  {
   "cell_type": "markdown",
   "metadata": {},
   "source": [
    "## Parsing a New York Times Article\n",
    "\n",
    "This workshop is going to teach web scraping, which is a general term for ways to acquire data from internet sources without using an officially provided API. We will do this using an article from the New York Times, which we will attempt to get the article text out of.\n",
    " \n",
    "## Objectives\n",
    "\n",
    "Concretely, this workshop will teach you how to work with:\n",
    "\n",
    "* Simple HTTP Requests \n",
    "* HTML Parsing with Beautiful Soup\n",
    " \n",
    "(this workshop is based on a series of labs created by Devika Subramanian for her COMP340 course at Rice University during the Fall 2018 term) "
   ]
  },
  {
   "cell_type": "markdown",
   "metadata": {},
   "source": [
    "### Section 1: Setup\n",
    "\n",
    "Here, I'm importing a few libraries that we'll use throughout this workshop."
   ]
  },
  {
   "cell_type": "code",
   "execution_count": 6,
   "metadata": {},
   "outputs": [],
   "source": [
    "import requests #for sending http requests to servers\n",
    "from bs4 import BeautifulSoup as bs #for parsing of the html we get back"
   ]
  },
  {
   "cell_type": "markdown",
   "metadata": {},
   "source": [
    "### Section 2: Basic HTTP Requests\n",
    "\n",
    "Write a couple lines of code that uses the `requests` package in Python to download and return the raw HTML content of the URL passed in as an argument. As an example, try the following NYT article: [https://www.nytimes.com/2018/04/11/technology/personaltech/i-downloaded-the-information-that-facebook-has-on-me-yikes.html](https://www.nytimes.com/2018/04/11/technology/personaltech/i-downloaded-the-information-that-facebook-has-on-me-yikes.html)\n",
    "\n",
    "Make sure you save your result to a variable for the next problem!"
   ]
  },
  {
   "cell_type": "code",
   "execution_count": 8,
   "metadata": {},
   "outputs": [
    {
     "data": {
      "text/plain": [
       "'<!DOCTYPE html>\\n<html lang=\"en\" itemId=\"https://ww'"
      ]
     },
     "execution_count": 8,
     "metadata": {},
     "output_type": "execute_result"
    }
   ],
   "source": [
    "### YOUR CODE HERE! (2-3 lines expected)\n",
    "response = requests.get(' https://www.nytimes.com/2018/04/11/technology/personaltech/i-downloaded-the-information-that-facebook-has-on-me-yikes.html')\n",
    "response.text[0:50]"
   ]
  },
  {
   "cell_type": "markdown",
   "metadata": {},
   "source": [
    "### Section 3: Extracting articles using BeautifulSoup\n",
    "\n",
    "Using `BeautifulSoup`, parse the HTML of the retrieved URL to extract the article. \n",
    "\n",
    "- to convert the HTML string `article` into a soup object: use `BeautifulSoup(article,\"lxml\")`\n",
    "- to find all paragraph tags in a soup object: use `soup.find_all(\"p\")`\n",
    "- to extract text from a paragraph object: use `p.getText()`\n"
   ]
  },
  {
   "cell_type": "code",
   "execution_count": 11,
   "metadata": {},
   "outputs": [
    {
     "name": "stdout",
     "output_type": "stream",
     "text": [
      "Advertisement\n",
      "Supported by\n",
      "Tech Fix\n",
      "By Brian X. Chen\n",
      "When I downloaded a copy of my Facebook data last week, I didn’t expect to see much. My profile is sparse, I rarely post anything on the site, and I seldom click on ads. (I’m what some call a Facebook “lurker.”)\n",
      "But when I opened my file, it was like opening Pandora’s box.\n",
      "With a few clicks, I learned that about 500 advertisers — many that I had never heard of, like Bad Dad, a motorcycle parts store, and Space Jesus, an electronica band — had my contact information, which could include my email address, phone number and full name. Facebook also had my entire phone book, including the number to ring my apartment buzzer. The social network had even kept a permanent record of the roughly 100 people I had deleted from my friends list over the last 14 years, including my exes.\n",
      "There was so much that Facebook knew about me — more than I wanted to know. But after looking at the totality of what the Silicon Valley company had obtained about yours truly, I decided to try to better understand how and why my data was collected and stored. I also sought to find out how much of my data could be removed.\n",
      "How Facebook collects and treats personal information was central this week when Mark Zuckerberg, the company’s chief executive,  answered questions in Congress about data privacy and his responsibilities to users. During his testimony, Mr. Zuckerberg repeatedly said Facebook has a tool for downloading your data that “allows people to see and take out all the information they’ve put into Facebook.” (Those who want to download their own Facebook data can use this link.)\n",
      "But that’s an overstatement. Most basic information, like my birthday, could not be deleted. More important, the pieces of data that I found objectionable, like the record of people I had unfriended, could not be removed from Facebook, either.\n",
      "“They don’t delete anything, and that’s a general policy,” said Gabriel Weinberg, the founder of DuckDuckGo, which offers internet privacy tools. He added that data was kept around to eventually help brands serve targeted ads.\n",
      "Beth Gautier, a Facebook spokeswoman, put it this way: “When you delete something, we remove it so it’s not visible or accessible on Facebook.” She added: “You can also delete your account whenever you want. It may take up to 90 days to delete all backups of data on our servers.”\n",
      "Digging through your Facebook files is an exercise I highly recommend if you care about how your personal information is stored and used. Here’s what I learned.\n",
      "A history of the steps the company took to become an advertising giant.\n",
      "When you download a copy of your Facebook data, you will see a folder containing multiple subfolders and files. The most important one is the “index” file, which is essentially a raw data set of your Facebook account, where you can click through your profile, friends list, timeline and messages, among other features.\n",
      "One surprising part of my index file was a section called Contact Info. This contained the 764 names and phone numbers of everyone in my iPhone’s address book. Upon closer inspection, it turned out that Facebook had stored my entire phone book because I had uploaded it when setting up Facebook’s messaging app, Messenger.\n",
      "This was unsettling. I had hoped Messenger would use my contacts list to find others who were also using the app so that I could connect with them easily — and hold on to the relevant contact information only for the people who were on Messenger. Yet Facebook kept the entire list, including the phone numbers for my car mechanic, my apartment door buzzer and a pizzeria.\n",
      "This felt unnecessary, though Facebook holds on to your phone book partly to keep it synchronized with your contacts list on Messenger and to help find people who newly sign up for the messaging service. I opted to turn off synchronizing and deleted all my phone book entries.\n",
      "My Facebook data also revealed how little the social network forgets. For instance, in addition to recording the exact date I signed up for Facebook in 2004, there was a record of when I deactivated Facebook in October 2010, only to reactivate it four days later — something I barely remember doing.\n",
      "Facebook also kept a history of each time I opened Facebook over the last two years, including which device and web browser I used. On some days, it even logged my locations, like when I was at a hospital two years ago or when I visited Tokyo last year.\n",
      "Facebook keeps a log of this data as a security measure to flag suspicious logins from unknown devices or locations, similar to how banks send a fraud alert when your credit card number is used in a suspicious location. This practice seemed reasonable, so I didn’t try to purge this information.\n",
      "But what bothered me was the data that I had explicitly deleted but that lingered in plain sight. On my friends list, Facebook had a record of “Removed Friends,” a dossier of the 112 people I had removed along with the date I clicked the “Unfriend” button. Why should Facebook remember the people I’ve cut off from my life?\n",
      "Facebook’s explanation was dissatisfying. The company said it might use my list of deleted friends so that those people did not appear in my feed with the feature “On This Day,” which resurfaces memories from years past to help people reminisce. I’d rather have the option to delete the list of deleted friends for good.\n",
      "What Facebook retained about me isn’t remotely as creepy as the sheer number of advertisers that have my information in their databases. I found this out when I clicked on the Ads section in my Facebook file, which loaded a history of the dozen ads I had clicked on while browsing the social network.\n",
      "Lower down, there was a section titled “Advertisers with your contact info,” followed by a list of roughly 500 brands, the overwhelming majority of which I had never interacted with. Some brands sounded obscure and sketchy — one was called “Microphone Check,” which turned out to be a radio show. Other brands were more familiar, like Victoria’s Secret Pink, Good Eggs or AARP.\n",
      "Facebook said unfamiliar advertisers might appear on the list because they might have obtained my contact information from elsewhere, compiled it into a list of people they wanted to target and uploaded that list into Facebook. Brands can upload their customer lists into a tool called Custom Audiences, which helps them find those same people’s Facebook profiles to serve them ads.\n",
      "Brands can obtain your information in many different ways. Those include:\n",
      "■ Buying information from a data provider like Acxiom, which has amassed one of the world’s largest commercial databases on consumers. Brands can buy different types of customer data sets from a provider, like contact information for people who belong to a certain demographic, and take that information to Facebook to serve targeted ads, said Michael Priem, chief executive of Modern Impact, an advertising firm in Minneapolis.\n",
      "Last month, Facebook announced that it was limiting its practice of allowing advertisers to target ads using information from third-party data brokers like Acxiom.\n",
      "■ Using tracking technologies like web cookies and invisible pixels that load in your web browser to collect information about your browsing activities. There are many different trackers on the web, and Facebook offers 10 different trackers to help brands harvest your information, according to Ghostery, which offers privacy tools that block ads and trackers. The advertisers can take some pieces of data that they have collected with trackers and upload them into the Custom Audiences tool to serve ads to you on Facebook.\n",
      "■ Getting your information in simpler ways, too. Someone you shared information with could share it with another entity. Your credit card loyalty program, for example, could share your information with a hotel chain, and that hotel chain could serve you ads on Facebook.\n",
      "The upshot? Even a Facebook lurker, like myself, who has barely clicked on any digital ads can have personal information exposed to an enormous number of advertisers. This was not entirely surprising, but seeing the list of unfamiliar brands with my contact information in my Facebook file was a dose of reality.\n",
      "I tried to contact some of these advertisers, like Very Important Puppets, a toymaker, to ask them about what they did with my data. They did not respond.\n",
      "Let’s be clear: Facebook is just the tip of the iceberg when it comes to what information tech companies have collected on me.\n",
      "Knowing this, I also downloaded copies of my Google data with a tool called Google Takeout. The data sets were exponentially larger than my Facebook data. For my personal email account alone, Google’s archive of my data measured eight gigabytes, enough to hold about 2,000 hours of music. By comparison, my Facebook data was about 650 megabytes, the equivalent of about 160 hours of music.\n",
      "Here was the biggest surprise in what Google collected on me: In a folder labeled Ads, Google kept a history of many news articles I had read, like a Newsweek story about Apple employees walking into glass walls and a New York Times story about the editor of our Modern Love column. I didn’t click on ads for either of these stories, but the search giant logged them because the sites had loaded ads served by Google.\n",
      "In another folder, labeled Android, Google had a record of apps I had opened on an Android phone since 2015, along with the date and time. This felt like an extraordinary level of detail.\n",
      "Google did not immediately respond to a request for comment.\n",
      "On a brighter note, I downloaded an archive of my LinkedIn data. The data set was less than half a megabyte and contained exactly what I had expected: spreadsheets of my LinkedIn contacts and information I had added to my profile.\n",
      "Yet that offered little solace. Be warned: Once you see the vast amount of data that has been collected about you, you won’t be able to unsee it.\n",
      "Brian X. Chen, our lead consumer technology reporter, writes Tech Fix, a column about solving tech problems like sluggish Wi-Fi, poor smartphone battery life and the complexity of taking your smartphone abroad. What frustrates you about your tech? Send your suggestions for future Tech Fix columns to brian.chen@nytimes.com.\n",
      "Advertisement\n"
     ]
    }
   ],
   "source": [
    "### YOUR CODE HERE! (4-5 lines expected)\n",
    "\n",
    "soup = bs(response.text,\"lxml\")\n",
    "tags = soup.find_all(\"p\")\n",
    "for tag in tags:\n",
    "    print(tag.getText())"
   ]
  }
 ],
 "metadata": {
  "kernelspec": {
   "display_name": "Python 3",
   "language": "python",
   "name": "python3"
  },
  "language_info": {
   "codemirror_mode": {
    "name": "ipython",
    "version": 3
   },
   "file_extension": ".py",
   "mimetype": "text/x-python",
   "name": "python",
   "nbconvert_exporter": "python",
   "pygments_lexer": "ipython3",
   "version": "3.7.3"
  }
 },
 "nbformat": 4,
 "nbformat_minor": 2
}
