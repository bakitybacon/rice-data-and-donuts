{
 "cells": [
  {
   "cell_type": "markdown",
   "metadata": {},
   "source": [
    "## Introduction to GitHub\n",
    "#### Rice University Data & Donuts Series, Summer 2019\n",
    "#### Corrin Fosmire"
   ]
  },
  {
   "cell_type": "markdown",
   "metadata": {},
   "source": [
    "### What are Git and GitHub?\n",
    "\n",
    "[Git](https://git-scm.com) is a free and open-source version control system developed by Linus Torvalds, the creator of Linux. It takes 'snapshots' (commits) of the current state of a project when instructed, allowing easy recovery from mistakes and tracking of changes. Git is very suitable for collaboration among larger teams, as we will see in the branching section.\n",
    "\n",
    "[GitHub](https://www.github.com) is a free to use service that stores git repositories on a server, so teams can collaborate effectively regardless of physical location."
   ]
  },
  {
   "cell_type": "markdown",
   "metadata": {},
   "source": [
    "### Setup\n",
    "\n",
    "#### Prerequisites\n",
    "\n",
    "Make sure you have git installed on a terminal environment (either PowerShell or Command Prompt on Windows, any common shell on Linux/Mac systems should suffice). Run the following code chunk to make sure you have git and it is located in the PATH environment variable."
   ]
  },
  {
   "cell_type": "code",
   "execution_count": 15,
   "metadata": {},
   "outputs": [
    {
     "name": "stdout",
     "output_type": "stream",
     "text": [
      "git version 2.7.4\n"
     ]
    }
   ],
   "source": [
    "%%bash\n",
    "git --version"
   ]
  },
  {
   "cell_type": "markdown",
   "metadata": {},
   "source": [
    "#### Cloning a Repository from GitHub\n",
    "\n",
    "In order to start developing a project that is already on GitHub, click on the green 'Clone or download' button, then copy the URL displayed. Open up a terminal and type ``git clone <url>``, pasting the appropriate URL, then press enter to copy the repository to your local machine. Once this is done, run the following command to verify the repository has been initialized successfully."
   ]
  },
  {
   "cell_type": "code",
   "execution_count": 17,
   "metadata": {},
   "outputs": [
    {
     "name": "stdout",
     "output_type": "stream",
     "text": [
      "On branch master\n",
      "Your branch is up-to-date with 'origin/master'.\n",
      "Changes not staged for commit:\n",
      "  (use \"git add <file>...\" to update what will be committed)\n",
      "  (use \"git checkout -- <file>...\" to discard changes in working directory)\n",
      "\n",
      "\tmodified:   github-learnr.Rmd\n",
      "\tmodified:   github-learnr.html\n",
      "\n",
      "Untracked files:\n",
      "  (use \"git add <file>...\" to include in what will be committed)\n",
      "\n",
      "\t.ipynb_checkpoints/\n",
      "\tgithub-jupyter.ipynb\n",
      "\tinfrared-spectrometer.txt\n",
      "\n",
      "no changes added to commit (use \"git add\" and/or \"git commit -a\")\n"
     ]
    }
   ],
   "source": [
    "%%bash\n",
    "git status"
   ]
  },
  {
   "cell_type": "markdown",
   "metadata": {},
   "source": [
    "## The Structure of a git Repository\n",
    "\n",
    "A git repository stores a sequence of 'snapshots' of a set of files through time. Any version of any file that has a snapshot can be recovered at any point."
   ]
  },
  {
   "cell_type": "markdown",
   "metadata": {},
   "source": [
    "![Snapshots](checkinsovertime.png \"Git Snapshots\")"
   ]
  },
  {
   "cell_type": "markdown",
   "metadata": {},
   "source": [
    "### The Git File Cycle\n",
    "\n",
    "There are four states for files in a git repository.\n",
    "\n",
    "* untracked: git has not been told about this file.\n",
    "* modified: we told git about this file, but we've changed it without telling git to remember our change.\n",
    "* staged: we have told git about this file and told git we will want it to remember our change.\n",
    "* committed: we have made git take a snapshot of our file."
   ]
  },
  {
   "cell_type": "markdown",
   "metadata": {},
   "source": [
    "![gitcycle](gitcycle.png \"Git File State Cycle\")"
   ]
  },
  {
   "cell_type": "markdown",
   "metadata": {},
   "source": [
    "### Adding a File to Git\n",
    "\n",
    "When a git repository is first set up, it doesn't know about any files. You must tell it about the files using the command ``git add``.\n",
    "\n",
    "The following command gives an example of how to create a file and tell git about it."
   ]
  },
  {
   "cell_type": "code",
   "execution_count": 8,
   "metadata": {},
   "outputs": [
    {
     "name": "stdout",
     "output_type": "stream",
     "text": [
      "[master 7cbde00] Added Personal File!\n",
      " 1 file changed, 1 insertion(+)\n",
      " create mode 100644 github/infrared-spectrometer.txt\n"
     ]
    },
    {
     "name": "stderr",
     "output_type": "stream",
     "text": [
      "warning: push.default is unset; its implicit value has changed in\n",
      "Git 2.0 from 'matching' to 'simple'. To squelch this message\n",
      "and maintain the traditional behavior, use:\n",
      "\n",
      "  git config --global push.default matching\n",
      "\n",
      "To squelch this message and adopt the new behavior now, use:\n",
      "\n",
      "  git config --global push.default simple\n",
      "\n",
      "When push.default is set to 'matching', git will push local branches\n",
      "to the remote branches that already exist with the same name.\n",
      "\n",
      "Since Git 2.0, Git defaults to the more conservative 'simple'\n",
      "behavior, which only pushes the current branch to the corresponding\n",
      "remote branch that 'git pull' uses to update the current branch.\n",
      "\n",
      "See 'git help config' and search for 'push.default' for further information.\n",
      "(the 'simple' mode was introduced in Git 1.7.11. Use the similar mode\n",
      "'current' instead of 'simple' if you sometimes use older versions of Git)\n",
      "\n",
      "fatal: could not read Username for 'https://github.com': No such device or address\n"
     ]
    }
   ],
   "source": [
    "%%bash\n",
    "echo \"Hello World!\" > `uname -n`.txt\n",
    "git add `uname -n`.txt"
   ]
  },
  {
   "cell_type": "markdown",
   "metadata": {},
   "source": [
    "``git commit``"
   ]
  },
  {
   "cell_type": "markdown",
   "metadata": {},
   "source": [
    "``git push``"
   ]
  },
  {
   "cell_type": "markdown",
   "metadata": {},
   "source": [
    "### Undoing Mistakes with Git"
   ]
  },
  {
   "cell_type": "markdown",
   "metadata": {},
   "source": [
    "``git commit --amend``"
   ]
  },
  {
   "cell_type": "markdown",
   "metadata": {},
   "source": [
    "`` git revert``"
   ]
  },
  {
   "cell_type": "markdown",
   "metadata": {},
   "source": [
    "``git reset``"
   ]
  },
  {
   "cell_type": "markdown",
   "metadata": {},
   "source": [
    "### Branching with Git"
   ]
  },
  {
   "cell_type": "markdown",
   "metadata": {},
   "source": [
    "``git branch``"
   ]
  },
  {
   "cell_type": "markdown",
   "metadata": {},
   "source": [
    "``git checkout``"
   ]
  },
  {
   "cell_type": "markdown",
   "metadata": {},
   "source": [
    "### Acknowledgements\n",
    "\n",
    "The git snapshots and git file cycle images are taken from  Pro Git book, written by Scott Chacon and Ben Straub and published by Apress, under the terms of the Creative Commons Attribution-NonCommercial-ShareAlike 3.0 Unported License. "
   ]
  }
 ],
 "metadata": {
  "kernelspec": {
   "display_name": "Python 3",
   "language": "python",
   "name": "python3"
  },
  "language_info": {
   "codemirror_mode": {
    "name": "ipython",
    "version": 3
   },
   "file_extension": ".py",
   "mimetype": "text/x-python",
   "name": "python",
   "nbconvert_exporter": "python",
   "pygments_lexer": "ipython3",
   "version": "3.6.5"
  }
 },
 "nbformat": 4,
 "nbformat_minor": 2
}
