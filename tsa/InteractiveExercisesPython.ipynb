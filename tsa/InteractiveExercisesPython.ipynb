{
 "cells": [
  {
   "cell_type": "markdown",
   "metadata": {},
   "source": [
    "# Rice Data and Donuts Time Series Workshop Interactive Exercises: Python\n",
    "####  Corrin Fosmire (Rice University)\n",
    "#### August 1st, 2019\n",
    "\n",
    "## Introduction\n",
    "\n",
    "This notebook will run through a full forecasting modeling session, using real data from the Dow Jones Industrial Average. Let's get started!"
   ]
  },
  {
   "cell_type": "markdown",
   "metadata": {
    "editable": false
   },
   "source": [
    "## Exploration of Data\n",
    "\n",
    "Let's begin by taking a look at our data and exploring some relationships."
   ]
  },
  {
   "cell_type": "code",
   "execution_count": null,
   "metadata": {
    "editable": false
   },
   "outputs": [],
   "source": [
    "import pandas as pd\n",
    "from plotnine import *\n",
    "from sklearn.linear_model import LinearRegression\n",
    "import numpy as np\n",
    "import datetime\n",
    "from statsmodels.tsa.stattools import adfuller\n",
    "from statsmodels.graphics.tsaplots import plot_acf, plot_pacf\n",
    "from statsmodels.tsa.seasonal import seasonal_decompose\n",
    "from statsmodels.tsa.statespace import sarimax\n",
    "from fbprophet import Prophet\n",
    "\n",
    "djia = pd.read_csv(\"djiafixed.csv\")\n",
    "djia[\"Date\"] = pd.to_datetime(djia[\"Date\"])\n",
    "djiaclean = djia.fillna(method='ffill')\n",
    "djia = djia.fillna(method='ffill')"
   ]
  },
  {
   "cell_type": "code",
   "execution_count": null,
   "metadata": {},
   "outputs": [],
   "source": [
    "djiaclean.head()"
   ]
  },
  {
   "cell_type": "code",
   "execution_count": null,
   "metadata": {},
   "outputs": [],
   "source": [
    "(ggplot(djiaclean) +\n",
    "  geom_line(mapping=aes('Date', 'Close')))"
   ]
  },
  {
   "cell_type": "code",
   "execution_count": null,
   "metadata": {},
   "outputs": [],
   "source": [
    "daygroup = djiaclean.groupby('month').Close.agg('mean').reset_index()\n",
    "(ggplot(daygroup) +\n",
    "  geom_point(mapping=aes('month', 'Close')) +\n",
    "  geom_line(mapping=aes('month', 'Close')) +\n",
    "  labs(title=\"Average Dow Jones Close by Month between 2013 and 2018 \", y=\"DJIA Close\", x=\"Month\"))"
   ]
  },
  {
   "cell_type": "code",
   "execution_count": null,
   "metadata": {},
   "outputs": [],
   "source": [
    "daygroup = djiaclean.groupby('yday').Close.agg('mean').reset_index()\n",
    "(ggplot(daygroup) +\n",
    "  geom_line(mapping=aes('yday', 'Close')) +\n",
    "  labs(title=\"Average Dow Jones Close by Day of Year between 2013 and 2018 \", y=\"DJIA Close\", x=\"Day of Year\"))"
   ]
  },
  {
   "cell_type": "code",
   "execution_count": null,
   "metadata": {},
   "outputs": [],
   "source": [
    "daygroup = djiaclean.groupby('mday').Close.agg('mean').reset_index()\n",
    "(ggplot(daygroup) +\n",
    "  geom_line(mapping=aes('mday', 'Close')) +\n",
    "  labs(title=\"Average Dow Jones Close by Day of Month between 2013 and 2018 \", y=\"DJIA Close\", x=\"Day of Month\"))"
   ]
  },
  {
   "cell_type": "code",
   "execution_count": null,
   "metadata": {},
   "outputs": [],
   "source": [
    "daygroup = djiaclean.groupby('wday').Close.agg('mean').reset_index()\n",
    "(ggplot(daygroup) +\n",
    "  geom_line(mapping=aes('wday', 'Close')) +\n",
    "  labs(title=\"Average Dow Jones Close by Day of Week between 2013 and 2018 \", y=\"DJIA Close\", x=\"Day of Week\"))"
   ]
  },
  {
   "cell_type": "markdown",
   "metadata": {
    "editable": false
   },
   "source": [
    "## Checking out the trend\n",
    "\n",
    "We first fit an simple line of best fit model, just to give us an idea how the mean is changing over time."
   ]
  },
  {
   "cell_type": "code",
   "execution_count": null,
   "metadata": {},
   "outputs": [],
   "source": [
    "arraydata = np.reshape(np.array(djiaclean.rowid), (-1, 1))\n",
    "\n",
    "trendmodel = LinearRegression().fit(arraydata, djiaclean.Close)\n",
    "linearmodelpredictions = trendmodel.predict(arraydata)\n",
    "\n",
    "(ggplot(djiaclean) +\n",
    "  geom_line(mapping=aes('Date', 'Close')) +\n",
    "  geom_line(mapping=aes('Date', linearmodelpredictions),color='red'))"
   ]
  },
  {
   "cell_type": "code",
   "execution_count": null,
   "metadata": {},
   "outputs": [],
   "source": [
    "djiaclean[\"detrended\"] = djiaclean[\"Close\"] - linearmodelpredictions\n",
    "\n",
    "(ggplot(djiaclean) +\n",
    "  geom_line(mapping=aes('Date', 'detrended')))"
   ]
  },
  {
   "cell_type": "code",
   "execution_count": null,
   "metadata": {},
   "outputs": [],
   "source": [
    "plots = []\n",
    "\n",
    "for lag in difforders:\n",
    "    plots.append((ggplot(djiaclean.dropna()) +\n",
    "        geom_point(mapping=aes('Close', 'difforder'+str(lag))) +\n",
    "        labs(title=\"Lagged Pickups of Order \"+str(lag))))\n",
    "plots"
   ]
  },
  {
   "cell_type": "code",
   "execution_count": null,
   "metadata": {},
   "outputs": [],
   "source": [
    "maorders = [1, 3, 5, 7] ## Enter your orders here!\n",
    "\n",
    "plots = []\n",
    "\n",
    "for order in maorders:\n",
    "    djiaclean['movingaverage'+str(order)] = djiaclean.Close.rolling(window=order).mean()\n",
    "    plots.append((ggplot(djiaclean.dropna()) +\n",
    "       geom_line(mapping=aes('Date','movingaverage'+str(order)))+\n",
    "       labs(title=(\"Moving Average Difference Order: \" + str(order)))))\n",
    "    \n",
    "plots"
   ]
  },
  {
   "cell_type": "code",
   "execution_count": null,
   "metadata": {},
   "outputs": [],
   "source": [
    "plot_acf(djiaclean.Close, lags=500)\n",
    "plot_pacf(djiaclean.Close, lags=10)\n",
    "\"\""
   ]
  },
  {
   "cell_type": "code",
   "execution_count": null,
   "metadata": {},
   "outputs": [],
   "source": [
    "djiatrain = djiaclean[:int(4*len(djiaclean)/5)]\n",
    "djiatest = djiaclean[int(4*len(djiaclean)/5):]"
   ]
  },
  {
   "cell_type": "code",
   "execution_count": null,
   "metadata": {},
   "outputs": [],
   "source": [
    "# Enter your orders below!\n",
    "\n",
    "model = sarimax.SARIMAX(djiatrain.Close, order=(0, 1, 0))\n",
    "result = model.fit()\n",
    "predict_steps = len(djiatest)\n",
    "djiatest[\"forecast\"] = result.forecast(steps=predict_steps)"
   ]
  },
  {
   "cell_type": "code",
   "execution_count": null,
   "metadata": {},
   "outputs": [],
   "source": [
    "print(\"MAPE: \"+ str(100*np.mean(abs(djiatest.Close - djiatest.forecast)/djiatest.Close)))\n",
    "\n",
    "(ggplot(djiatest) +\n",
    "  geom_line(mapping=aes('Date', 'Close')) +\n",
    "  geom_line(mapping=aes('Date', 'forecast'), color=\"red\") +\n",
    "  labs(title=\"A Fitted Arima Model\", y=\"DJIA Close\", x=\"Day\"))"
   ]
  },
  {
   "cell_type": "code",
   "execution_count": null,
   "metadata": {},
   "outputs": [],
   "source": [
    "prophet_train = djiatrain\n",
    "prophet_test = djiatest\n",
    "\n",
    "prophet_train = prophet_train.dropna()[[\"Date\", \"Close\"]]\n",
    "prophet_test = prophet_test.dropna()[[\"Date\", \"Close\"]]\n",
    "\n",
    "prophet_train.columns = [\"ds\", \"y\"]\n",
    "prophet_test.columns = [\"ds\", \"y\"]"
   ]
  },
  {
   "cell_type": "code",
   "execution_count": null,
   "metadata": {},
   "outputs": [],
   "source": [
    "m = Prophet(yearly_seasonality=False, daily_seasonality=True)\n",
    "m.fit(prophet_train)"
   ]
  },
  {
   "cell_type": "code",
   "execution_count": null,
   "metadata": {},
   "outputs": [],
   "source": [
    "future = m.make_future_dataframe(periods=len(djiatest), freq='D')\n",
    "forecast = m.predict(future)"
   ]
  },
  {
   "cell_type": "code",
   "execution_count": null,
   "metadata": {},
   "outputs": [],
   "source": [
    "prophetdf = pd.DataFrame({\n",
    "    'Date': djiatest.Date,\n",
    "    'Close': djiatest.Close,\n",
    "    'Forecast': forecast.yhat\n",
    "})\n",
    "\n",
    "print(\"MAPE: \"+ str(100*np.mean(abs(djiatest.Close - forecast.yhat)/djiatest.Close)))\n",
    "\n",
    "(ggplot(prophetdf) +\n",
    "  geom_line(mapping=aes('Date', 'Close')) +\n",
    "  geom_line(mapping=aes('Date', 'Forecast'), color=\"red\") +\n",
    "  labs(title=\"A Fitted Prophet Model\", y=\"DJIA Close\", x=\"Day\"))"
   ]
  },
  {
   "cell_type": "code",
   "execution_count": null,
   "metadata": {},
   "outputs": [],
   "source": [
    "import keras as K\n",
    "import tensorflow\n",
    "from keras.models import Sequential\n",
    "from keras.layers import SimpleRNN, LSTM\n",
    "from keras.layers.core import Dense"
   ]
  },
  {
   "cell_type": "code",
   "execution_count": null,
   "metadata": {},
   "outputs": [],
   "source": [
    "num_days_back = 3\n",
    "\n",
    "for day in range(1, num_days_back+1):\n",
    "    djia['lag'+str(day)] = djia.Close.shift(day)"
   ]
  },
  {
   "cell_type": "code",
   "execution_count": null,
   "metadata": {},
   "outputs": [],
   "source": [
    "colnames = list(map(lambda day: 'lag'+str(day + 1), list(range(num_days_back))))\n",
    "\n",
    "djiatensor = np.array(djia[colnames])[num_days_back:, ]\n",
    "djiatarget = np.array(djia.Close)[num_days_back:, ]"
   ]
  },
  {
   "cell_type": "code",
   "execution_count": null,
   "metadata": {},
   "outputs": [],
   "source": [
    "cuts = len(djiatrain) - num_days_back\n",
    "\n",
    "tf_train_x = djiatensor[:cuts].reshape((len(djiatrain) - num_days_back, num_days_back, 1))\n",
    "tf_train_y = djiatarget[:cuts].reshape((len(djiatrain) - num_days_back, 1))\n",
    "tf_test_x = djiatensor[cuts:].reshape((len(djiatest), num_days_back, 1))\n",
    "tf_test_y = djiatarget[cuts:].reshape((len(djiatest), 1))"
   ]
  },
  {
   "cell_type": "code",
   "execution_count": null,
   "metadata": {},
   "outputs": [],
   "source": [
    "rnn = Sequential([\n",
    "    LSTM(units=300, input_shape=(num_days_back, 1), return_sequences=True, activation='relu'),\n",
    "    LSTM(units=500, input_shape=(num_days_back, 1), return_sequences=True, activation='relu'),\n",
    "    LSTM(units=300, input_shape=(num_days_back, 1), activation='relu'),\n",
    "    Dense(200, activation='relu'),\n",
    "    Dense(100, activation='relu'),\n",
    "    Dense(1)\n",
    "])\n",
    "\n",
    "rnn.compile(optimizer=\"adam\", loss=\"mean_absolute_percentage_error\")\n",
    "rnn.fit(tf_train_x, tf_train_y, epochs=5, validation_split=0.1)"
   ]
  },
  {
   "cell_type": "code",
   "execution_count": null,
   "metadata": {},
   "outputs": [],
   "source": [
    "print(\"MAPE:\" + str(rnn.evaluate(tf_test_x, tf_test_y)))\n",
    "\n",
    "rnnpredictions = rnn.predict(tf_test_x)\n",
    "predictionsdf = pd.DataFrame({\"Prediction\":list(rnnpredictions[:,0]), \"Actual\":djiatest.Close,\n",
    "                              \"Date\":djiatest.Date})\n",
    "(ggplot(predictionsdf) +\n",
    "    geom_line(mapping=aes('Date', 'Prediction'), color='red') +\n",
    "    geom_line(mapping=aes('Date', 'Actual')))"
   ]
  }
 ],
 "metadata": {
  "kernelspec": {
   "display_name": "Python 3",
   "language": "python",
   "name": "python3"
  },
  "language_info": {
   "codemirror_mode": {
    "name": "ipython",
    "version": 3
   },
   "file_extension": ".py",
   "mimetype": "text/x-python",
   "name": "python",
   "nbconvert_exporter": "python",
   "pygments_lexer": "ipython3",
   "version": "3.7.3"
  }
 },
 "nbformat": 4,
 "nbformat_minor": 2
}
